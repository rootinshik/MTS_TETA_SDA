{
 "cells": [
  {
   "cell_type": "markdown",
   "id": "d8b8bed8-7d45-4a44-8238-faef3ebd71dc",
   "metadata": {},
   "source": [
    "# 5 Домашние задание №1 по оптимизации\n",
    "\n",
    "**Задание.** Решить задачу линейного программирования симплекс-методом (с использованием симплекс таблиц). \n",
    "\n",
    "$$\n",
    "    L = 2x_1 + 3x_2 - x_4 \\rightarrow \\max\n",
    "$$\n",
    "$$\n",
    "\\begin{cases}\n",
    "    2x_1 - x_2 - 2 x_4 + x_5 = 16 \\\\ \n",
    "    3x_1 + 2x_2 + x_3 - 3x_4 = 18 \\\\\n",
    "    -x_1 + 3x_2 + 4x_4 + x_6 = 24\n",
    "\\end{cases}\n",
    "$$\n",
    "$$\n",
    "    x_1, x_2, \\dots, x_6 \\ge 0\n",
    "$$\n",
    "\n",
    "\n",
    "**Примечание.** В качестве начального базиса нужно брать переменные, которые входят с коэффициентом 1 лишь в одно условие-ограничение и которые не входят в целевую функцию.\n",
    "\n",
    "\n",
    "**Решение.** Для начального базиса выберем переменные, которые входят с коэффициентом 1 лишь в одно условие-ограничение и которые не входят в целевую функцию данном случае выберем $x_5$​, $x_3$​, и $x_6$​ в качестве базисных переменных.\n",
    "\n",
    "\n",
    "\\begin{array}{|c|cccccc|c|}\n",
    "\\hline\n",
    "\\text{Базис} & x_1 & x_2 & x_3 & x_4 & x_5 & x_6 & \\text{Свободные члены} \\\\\n",
    "\\hline\n",
    "x_5 & 2 & -1 & 0 & -2 & 1 & 0 & 16 \\\\\n",
    "x_3 & 3 & 2 & 1 & -3 & 0 & 0 & 18 \\\\\n",
    "x_6 & -1 & 3 & 0 & 4 & 0 & 1 & 24 \\\\\n",
    "\\hline\n",
    "L & -2 & -3 & 0 & 1 & 0 & 0 & 0 \\\\\n",
    "\\hline\n",
    "\\end{array}\n",
    "\n",
    "\\begin{array}{|c|cccccc|c|}\n",
    "\\hline\n",
    "\\text{Базис} & x_1 & x_2 & x_3 & x_4 & x_5 & x_6 & \\text{Свободные члены} \\\\\n",
    "\\hline\n",
    "x_5\t &4\t &5/3\t &0\t &0\t &-2/3 &\t1\t &1/3 \\\\\n",
    "x_3\t &2\t &11/3\t &0\t &1\t &-17/3\t &0\t &-2/3 \\\\\n",
    "x_2\t &8\t &-1/3\t &1\t &0\t &4/3\t &0\t &1/3 \\\\\n",
    "\\hline\n",
    "L\t &-3\t &0\t &0\t &5\t &0\t &1\t &24 \\\\\n",
    "\\hline\n",
    "\\end{array}\n",
    "\n",
    "\\begin{array}{|c|cccccc|c|}\n",
    "\\hline\n",
    "\\text{Базис} & x_1 & x_2 & x_3 & x_4 & x_5 & x_6 & \\text{Свободные члены} \\\\\n",
    "\\hline\n",
    "x_5\t &254/11 &\t 0\t &0\t &-5/11 &\t21/11\t &1 &\t7/11 \\\\ \n",
    "x_1\t &6/11\t &1\t &0\t &3/11 &\t-17/11\t &0\t &-2/11 \\\\ \n",
    "x_2\t &90/11\t &0\t &1\t &1/11 &\t9/11\t &0\t &3/11 \\\\ \n",
    "\\hline\n",
    "L\t &0 &0 &\t0\t &9/11\t &4/11\t &5/11 &\t282/11\t  \\\\\n",
    "\\hline\n",
    "\\end{array}\n",
    "\n",
    "\n",
    "**Решение**\n",
    "\n",
    "$x_1 = 6/11, \\ x_2 = 90/11, \\ x_3 = 0, \\ x_4 = 0, \\ x_5 = 254/11, \\ x_6 = 0$\n",
    "\n",
    "$L = 2*6/11 + 3 \\cdot 90/11 -1 \\cdot 0 = 282/11$\n",
    "\n",
    "\n",
    "**Проверка решения.**"
   ]
  },
  {
   "cell_type": "code",
   "execution_count": 24,
   "id": "7b757317-4ca3-47ec-925c-cbc44fa95213",
   "metadata": {},
   "outputs": [
    {
     "name": "stdout",
     "output_type": "stream",
     "text": [
      "Минимальное значение: 25.636\n",
      "Решение: 0.545 8.182 0.0 0.0 23.091 0.0 0.0\n"
     ]
    },
    {
     "name": "stderr",
     "output_type": "stream",
     "text": [
      "/tmp/ipykernel_48251/381153523.py:14: DeprecationWarning: `method='simplex'` is deprecated and will be removed in SciPy 1.11.0. Please use one of the HiGHS solvers (e.g. `method='highs'`) in new code.\n",
      "  result = linprog(c, A_eq=A, b_eq=b, bounds=[(0, None)] * 7, method='simplex')\n"
     ]
    }
   ],
   "source": [
    "from scipy.optimize import linprog\n",
    "\n",
    "\n",
    "c = [-2, -3, 0, 1, 0, 0, 0]\n",
    "\n",
    "A = [\n",
    "    [2, -1, 0, -2, 1, 0, 0],\n",
    "    [3, 2, 1, -3, 0, 0, 0],\n",
    "    [-1, 3, 0, 4, 0, 1, 0]\n",
    "]\n",
    "\n",
    "b = [16, 18, 24]\n",
    "\n",
    "result = linprog(c, A_eq=A, b_eq=b, bounds=[(0, None)] * 7, method='simplex')\n",
    "\n",
    "print('Минимальное значение:', np.round(-result.fun, 3)) \n",
    "print('Решение:', *np.round(result.x, 3))"
   ]
  }
 ],
 "metadata": {
  "kernelspec": {
   "display_name": "Python 3 (ipykernel)",
   "language": "python",
   "name": "python3"
  },
  "language_info": {
   "codemirror_mode": {
    "name": "ipython",
    "version": 3
   },
   "file_extension": ".py",
   "mimetype": "text/x-python",
   "name": "python",
   "nbconvert_exporter": "python",
   "pygments_lexer": "ipython3",
   "version": "3.11.6"
  }
 },
 "nbformat": 4,
 "nbformat_minor": 5
}
