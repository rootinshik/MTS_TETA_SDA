{
 "cells": [
  {
   "cell_type": "code",
   "execution_count": 1,
   "id": "532adaca-3811-4df1-9f7a-4c2a0fd58894",
   "metadata": {},
   "outputs": [],
   "source": [
    "import numpy as np"
   ]
  },
  {
   "cell_type": "code",
   "execution_count": 2,
   "id": "fb00881d-6b01-48bc-987e-b9dd0754ce78",
   "metadata": {},
   "outputs": [],
   "source": [
    "prob = [[0.15, 0.05, 0.3],\n",
    "        [0, 0.15, 0.1],\n",
    "        [0.15, 0, 0.1]]\n",
    "\n",
    "x_val = [0, -1, -2]\n",
    "\n",
    "y_val = [0, 1, 3]"
   ]
  },
  {
   "cell_type": "code",
   "execution_count": 3,
   "id": "5bc69c8e-4a15-4f79-aa10-3457b33fa85f",
   "metadata": {},
   "outputs": [],
   "source": [
    "E_x = -0.75\n",
    "E_y = 1.7"
   ]
  },
  {
   "cell_type": "code",
   "execution_count": 4,
   "id": "066811d4-2ecc-4cd5-ae3e-986915e7ac94",
   "metadata": {},
   "outputs": [
    {
     "data": {
      "text/plain": [
       "0.225"
      ]
     },
     "execution_count": 4,
     "metadata": {},
     "output_type": "execute_result"
    }
   ],
   "source": [
    "cov = 0\n",
    "for x in range(3):\n",
    "    for y in range(3):\n",
    "        cov += (x_val[x] - E_x) * (y_val[y] - E_y) * prob[x][y]\n",
    "np.round(cov, 5)"
   ]
  },
  {
   "cell_type": "code",
   "execution_count": 5,
   "id": "f3d51ec3-23f2-46c1-a2a3-5a863c454e30",
   "metadata": {},
   "outputs": [
    {
     "data": {
      "text/plain": [
       "[[3, -1, -9], [-3, -7, -15], [-9, -13, -21]]"
      ]
     },
     "execution_count": 5,
     "metadata": {},
     "output_type": "execute_result"
    }
   ],
   "source": [
    "v_val = [[0 for _ in range(3)] for _ in range(3)]\n",
    "for x in range(3):\n",
    "    for y in range(3):\n",
    "        v_val[x][y] = 6 * x_val[x] - 4 * y_val[y] + 3\n",
    "v_val"
   ]
  },
  {
   "cell_type": "code",
   "execution_count": 6,
   "id": "d40e6386-63ae-43f3-9c2f-dade6037e008",
   "metadata": {},
   "outputs": [
    {
     "data": {
      "text/plain": [
       "-8.3"
      ]
     },
     "execution_count": 6,
     "metadata": {},
     "output_type": "execute_result"
    }
   ],
   "source": [
    "E_v = 0\n",
    "for x in range(3):\n",
    "    for y in range(3):\n",
    "       E_v += v_val[x][y] * prob[x][y]\n",
    "np.round(E_v, 5)"
   ]
  },
  {
   "cell_type": "code",
   "execution_count": 7,
   "id": "33abd53e-39e9-4254-b404-610acac316f0",
   "metadata": {},
   "outputs": [
    {
     "data": {
      "text/plain": [
       "array([[ 11.3,   7.3,  -0.7],\n",
       "       [  5.3,   1.3,  -6.7],\n",
       "       [ -0.7,  -4.7, -12.7]])"
      ]
     },
     "execution_count": 7,
     "metadata": {},
     "output_type": "execute_result"
    }
   ],
   "source": [
    "v_val_E_v = [[v_val[x][y] - E_v for y in range(3)] for x in range(3)]\n",
    "np.round(v_val_E_v, 5)"
   ]
  },
  {
   "cell_type": "code",
   "execution_count": 8,
   "id": "114b3809-c5c2-492a-beda-dbb5340ac033",
   "metadata": {},
   "outputs": [
    {
     "data": {
      "text/plain": [
       "array([[127.69,  53.29,   0.49],\n",
       "       [ 28.09,   1.69,  44.89],\n",
       "       [  0.49,  22.09, 161.29]])"
      ]
     },
     "execution_count": 8,
     "metadata": {},
     "output_type": "execute_result"
    }
   ],
   "source": [
    "v_val_E_v_2 = [[v_val_E_v[x][y] ** 2 for y in range(3)] for x in range(3)]\n",
    "np.round(v_val_E_v_2, 5)"
   ]
  },
  {
   "cell_type": "code",
   "execution_count": 9,
   "id": "75be5073-4b86-451f-9387-bb74771fd9ce",
   "metadata": {},
   "outputs": [
    {
     "data": {
      "text/plain": [
       "42.91"
      ]
     },
     "execution_count": 9,
     "metadata": {},
     "output_type": "execute_result"
    }
   ],
   "source": [
    "D_v = 0\n",
    "for x in range(3):\n",
    "    for y in range(3):\n",
    "        D_v += v_val_E_v_2[x][y] * prob[x][y]\n",
    "D_v"
   ]
  }
 ],
 "metadata": {
  "kernelspec": {
   "display_name": "Python 3 (ipykernel)",
   "language": "python",
   "name": "python3"
  },
  "language_info": {
   "codemirror_mode": {
    "name": "ipython",
    "version": 3
   },
   "file_extension": ".py",
   "mimetype": "text/x-python",
   "name": "python",
   "nbconvert_exporter": "python",
   "pygments_lexer": "ipython3",
   "version": "3.11.6"
  }
 },
 "nbformat": 4,
 "nbformat_minor": 5
}
