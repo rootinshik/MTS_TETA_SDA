{
 "cells": [
  {
   "cell_type": "markdown",
   "id": "eabd163e-9431-48a5-88ce-448d1f4cc292",
   "metadata": {},
   "source": [
    "# 4 Домашние задание по ТВиМС"
   ]
  },
  {
   "cell_type": "markdown",
   "id": "da65fb14-3fa8-488e-85ad-2cccdf1389b2",
   "metadata": {},
   "source": [
    "### Импорт библиотек"
   ]
  },
  {
   "cell_type": "code",
   "execution_count": 1,
   "id": "8c373b75-7dd9-4ea9-b871-d13ca37c4f15",
   "metadata": {},
   "outputs": [],
   "source": [
    "from itertools import combinations\n",
    "\n",
    "import numpy as np\n",
    "import pandas as pd\n",
    "import seaborn as sns\n",
    "import matplotlib.pyplot as plt\n",
    "from scipy import stats"
   ]
  },
  {
   "cell_type": "markdown",
   "id": "f0a41b69-848d-4dda-a859-3a4073f1b9d4",
   "metadata": {},
   "source": [
    "### Найстроки графиков"
   ]
  },
  {
   "cell_type": "code",
   "execution_count": 2,
   "id": "2ead54c3-b3ce-4172-8ad9-7d649cba6b0b",
   "metadata": {},
   "outputs": [],
   "source": [
    "sns.set(style=\"whitegrid\")"
   ]
  },
  {
   "cell_type": "markdown",
   "id": "d695e13f-bec5-416d-bb75-785d9305a3c9",
   "metadata": {},
   "source": [
    "## №1 Данные\n",
    "\n",
    "Я выбрал данные из датасета [**kion**](https://github.com/irsafilo/KION_DATASET). Сегментами будут являться возраста, а именно: 18-24, 25-34, 35-44, 45-54, 55-64, 65 и более. Признаки, числовые характеристики: количество просмотров всех фильмов, средний процент досмтариваемости, количество просмотренных фильмов для детей.  "
   ]
  },
  {
   "cell_type": "code",
   "execution_count": 3,
   "id": "206e211b-b678-4125-b96f-246f8ce3f81a",
   "metadata": {},
   "outputs": [],
   "source": [
    "users_df = pd.read_csv('data/users.csv')\n",
    "items_df = pd.read_csv('data/items.csv')\n",
    "interactions_df = pd.read_csv('data/interactions.csv')"
   ]
  },
  {
   "cell_type": "markdown",
   "id": "31f352bd-d2f5-4a6d-a2c1-2a8313452413",
   "metadata": {},
   "source": [
    "Так для некотрых пользователей мы не знаем их возраста. Уберем их из данных."
   ]
  },
  {
   "cell_type": "code",
   "execution_count": 4,
   "id": "04ef1865-76b8-4874-b316-e949b6ee9888",
   "metadata": {},
   "outputs": [
    {
     "data": {
      "text/plain": [
       "14095"
      ]
     },
     "execution_count": 4,
     "metadata": {},
     "output_type": "execute_result"
    }
   ],
   "source": [
    "users_df['age'].isna().sum()"
   ]
  },
  {
   "cell_type": "code",
   "execution_count": 5,
   "id": "03a750c2-a328-4c88-82d1-fbc77bd209fe",
   "metadata": {},
   "outputs": [],
   "source": [
    "users_df = users_df[users_df['age'].notna()]"
   ]
  },
  {
   "cell_type": "code",
   "execution_count": 6,
   "id": "348f8609-2e31-44bc-b77f-38697079e589",
   "metadata": {},
   "outputs": [
    {
     "data": {
      "image/png": "[encoded data removed]",
      "text/plain": [
       "<Figure size 1000x300 with 1 Axes>"
      ]
     },
     "metadata": {},
     "output_type": "display_data"
    }
   ],
   "source": [
    "custom_order = ['age_18_24', \n",
    "                'age_25_34', \n",
    "                'age_35_44',\n",
    "                'age_45_54', \n",
    "                'age_55_64', \n",
    "                'age_65_inf']\n",
    "\n",
    "plt.figure(figsize=(10, 3))\n",
    "sns.countplot(users_df, x='age', order=custom_order)\n",
    "plt.title('Распредение возраста пользователей')\n",
    "plt.xlabel('Возраст')\n",
    "plt.ylabel('Частота')\n",
    "plt.show()"
   ]
  },
  {
   "cell_type": "markdown",
   "id": "50d168a0-877c-4b2b-b6aa-7e105159b2f8",
   "metadata": {},
   "source": [
    "Переименуем признак возраста."
   ]
  },
  {
   "cell_type": "code",
   "execution_count": 7,
   "id": "075994b1-15a0-48ea-9087-ef70ce1f040b",
   "metadata": {},
   "outputs": [],
   "source": [
    "users_df['age'].replace(['age_18_24', \n",
    "                         'age_25_34', \n",
    "                         'age_35_44',\n",
    "                         'age_45_54', \n",
    "                         'age_55_64', \n",
    "                         'age_65_inf'],\n",
    "                        ['18_24', \n",
    "                         '25_34', \n",
    "                         '35_44',\n",
    "                         '45_54', \n",
    "                         '55_64', \n",
    "                         '65_inf'],\n",
    "                       inplace=True)"
   ]
  },
  {
   "cell_type": "markdown",
   "id": "14a8be48-d1a4-418f-a659-e1a344cb386e",
   "metadata": {},
   "source": [
    "Посчитем первый признак. Для каждого пользователя найдем количество фильмов, которые он смотрел."
   ]
  },
  {
   "cell_type": "code",
   "execution_count": 8,
   "id": "6ba6a461-6b1c-4fab-b447-588a5f83e053",
   "metadata": {},
   "outputs": [],
   "source": [
    "count_views = interactions_df[['user_id', 'item_id']]\\\n",
    "                    .groupby('user_id')\\\n",
    "                    .count()\\\n",
    "                    .rename(columns={'item_id': 'cnt_views'})\n",
    "\n",
    "users_df = users_df.join(count_views, on='user_id')"
   ]
  },
  {
   "cell_type": "markdown",
   "id": "6a55aac8-41d8-495a-a69f-3cd5ef9057ce",
   "metadata": {},
   "source": [
    "Посчитем второй признак. Для каждого пользователя найдем средний процент просмотренности фильма."
   ]
  },
  {
   "cell_type": "code",
   "execution_count": 9,
   "id": "1ccc6706-67c7-45ca-8139-ee25def67cfd",
   "metadata": {},
   "outputs": [],
   "source": [
    "mean_watched_pct = interactions_df[['user_id', 'watched_pct']]\\\n",
    "                        .groupby('user_id')\\\n",
    "                        .mean()\\\n",
    "                        .rename(columns={'watched_pct': 'mean_watched_pct'})\n",
    "\n",
    "users_df = users_df.join(mean_watched_pct, on='user_id')\n",
    "users_df['mean_watched_pct'] = np.round(users_df['mean_watched_pct']) "
   ]
  },
  {
   "cell_type": "markdown",
   "id": "8c59fdbf-3e5a-4266-901b-79f910c3a5a5",
   "metadata": {},
   "source": [
    "Посчитем третий признак. Для каждого пользователя найдем количество просмотренных фильмов для детей."
   ]
  },
  {
   "cell_type": "code",
   "execution_count": 10,
   "id": "9b7e889b-164d-4458-b145-eef6e626c9e6",
   "metadata": {},
   "outputs": [],
   "source": [
    "for_kids = interactions_df[['user_id', 'item_id']]\\\n",
    "                .join(items_df[['age_rating', 'item_id']]\\\n",
    "                .set_index('item_id'), on='item_id')\\\n",
    "                .rename(columns={'age_rating': 'cnt_kids_films'})\n",
    "\n",
    "for_kids['cnt_kids_films'] = for_kids['cnt_kids_films'] < 16\n",
    "for_kids = for_kids[['user_id', 'cnt_kids_films']]\\\n",
    "                .groupby('user_id')\\\n",
    "                .sum()\n",
    "\n",
    "users_df = users_df.join(for_kids, on='user_id')"
   ]
  },
  {
   "cell_type": "markdown",
   "id": "09843f76-6b02-4163-8b12-3d67c02ad80c",
   "metadata": {},
   "source": [
    "Уберем лишние признаки для данных, с которыми будем работать."
   ]
  },
  {
   "cell_type": "code",
   "execution_count": 11,
   "id": "1da30cfb-c174-46d3-9bfe-57d42875728a",
   "metadata": {},
   "outputs": [
    {
     "data": {
      "text/html": [
       "<div>\n",
       "<style scoped>\n",
       "    .dataframe tbody tr th:only-of-type {\n",
       "        vertical-align: middle;\n",
       "    }\n",
       "\n",
       "    .dataframe tbody tr th {\n",
       "        vertical-align: top;\n",
       "    }\n",
       "\n",
       "    .dataframe thead th {\n",
       "        text-align: right;\n",
       "    }\n",
       "</style>\n",
       "<table border=\"1\" class=\"dataframe\">\n",
       "  <thead>\n",
       "    <tr style=\"text-align: right;\">\n",
       "      <th></th>\n",
       "      <th>age</th>\n",
       "      <th>cnt_views</th>\n",
       "      <th>mean_watched_pct</th>\n",
       "      <th>cnt_kids_films</th>\n",
       "    </tr>\n",
       "  </thead>\n",
       "  <tbody>\n",
       "    <tr>\n",
       "      <th>288376</th>\n",
       "      <td>45_54</td>\n",
       "      <td>2.0</td>\n",
       "      <td>2.0</td>\n",
       "      <td>0.0</td>\n",
       "    </tr>\n",
       "    <tr>\n",
       "      <th>578757</th>\n",
       "      <td>45_54</td>\n",
       "      <td>4.0</td>\n",
       "      <td>46.0</td>\n",
       "      <td>0.0</td>\n",
       "    </tr>\n",
       "    <tr>\n",
       "      <th>90293</th>\n",
       "      <td>55_64</td>\n",
       "      <td>1.0</td>\n",
       "      <td>100.0</td>\n",
       "      <td>0.0</td>\n",
       "    </tr>\n",
       "    <tr>\n",
       "      <th>392850</th>\n",
       "      <td>25_34</td>\n",
       "      <td>1.0</td>\n",
       "      <td>1.0</td>\n",
       "      <td>0.0</td>\n",
       "    </tr>\n",
       "    <tr>\n",
       "      <th>705537</th>\n",
       "      <td>45_54</td>\n",
       "      <td>10.0</td>\n",
       "      <td>93.0</td>\n",
       "      <td>9.0</td>\n",
       "    </tr>\n",
       "    <tr>\n",
       "      <th>722874</th>\n",
       "      <td>55_64</td>\n",
       "      <td>1.0</td>\n",
       "      <td>20.0</td>\n",
       "      <td>1.0</td>\n",
       "    </tr>\n",
       "    <tr>\n",
       "      <th>320324</th>\n",
       "      <td>45_54</td>\n",
       "      <td>56.0</td>\n",
       "      <td>34.0</td>\n",
       "      <td>14.0</td>\n",
       "    </tr>\n",
       "    <tr>\n",
       "      <th>492605</th>\n",
       "      <td>45_54</td>\n",
       "      <td>29.0</td>\n",
       "      <td>66.0</td>\n",
       "      <td>11.0</td>\n",
       "    </tr>\n",
       "    <tr>\n",
       "      <th>498513</th>\n",
       "      <td>55_64</td>\n",
       "      <td>9.0</td>\n",
       "      <td>75.0</td>\n",
       "      <td>0.0</td>\n",
       "    </tr>\n",
       "    <tr>\n",
       "      <th>111771</th>\n",
       "      <td>35_44</td>\n",
       "      <td>3.0</td>\n",
       "      <td>59.0</td>\n",
       "      <td>0.0</td>\n",
       "    </tr>\n",
       "  </tbody>\n",
       "</table>\n",
       "</div>"
      ],
      "text/plain": [
       "          age  cnt_views  mean_watched_pct  cnt_kids_films\n",
       "288376  45_54        2.0               2.0             0.0\n",
       "578757  45_54        4.0              46.0             0.0\n",
       "90293   55_64        1.0             100.0             0.0\n",
       "392850  25_34        1.0               1.0             0.0\n",
       "705537  45_54       10.0              93.0             9.0\n",
       "722874  55_64        1.0              20.0             1.0\n",
       "320324  45_54       56.0              34.0            14.0\n",
       "492605  45_54       29.0              66.0            11.0\n",
       "498513  55_64        9.0              75.0             0.0\n",
       "111771  35_44        3.0              59.0             0.0"
      ]
     },
     "execution_count": 11,
     "metadata": {},
     "output_type": "execute_result"
    }
   ],
   "source": [
    "df = users_df[['age', \n",
    "               'cnt_views', \n",
    "               'mean_watched_pct', \n",
    "               'cnt_kids_films']]\n",
    "df.sample(10)"
   ]
  },
  {
   "cell_type": "markdown",
   "id": "02cb35f4-8d08-4052-8b1d-5197f84bb11d",
   "metadata": {},
   "source": [
    "Уберем записи о пользователях, в признаках которых встречается NaN. Nan появились из-за того, что далеко не все пользователя смотрели что-то хотя бы один раз. Эти пропуски сильно будут влиять на тесты, которые мы будем проводить."
   ]
  },
  {
   "cell_type": "code",
   "execution_count": 12,
   "id": "aec0fa29-6ac1-4e54-b70c-7c377b3e691c",
   "metadata": {},
   "outputs": [],
   "source": [
    "df = df.dropna()"
   ]
  },
  {
   "cell_type": "code",
   "execution_count": 13,
   "id": "360a4514-4e22-490d-931f-23fecc4804cd",
   "metadata": {},
   "outputs": [
    {
     "data": {
      "image/png": "[encoded data removed]",
      "text/plain": [
       "<Figure size 1000x300 with 1 Axes>"
      ]
     },
     "metadata": {},
     "output_type": "display_data"
    }
   ],
   "source": [
    "custom_order = ['18_24', \n",
    "                '25_34', \n",
    "                '35_44',\n",
    "                '45_54', \n",
    "                '55_64', \n",
    "                '65_inf']\n",
    "\n",
    "plt.figure(figsize=(10, 3))\n",
    "sns.countplot(df, x='age', order=custom_order)\n",
    "plt.title('Распредение возраста пользователей, которые смотрели что-то хотя бы один раз')\n",
    "plt.xlabel('Возраст')\n",
    "plt.ylabel('Частота')\n",
    "plt.show()"
   ]
  },
  {
   "cell_type": "markdown",
   "id": "4e348acb-55fc-4bf9-924c-a3949e271e42",
   "metadata": {},
   "source": [
    "## №2 Применение тестов Стьюдента, Манна-Уитни, Фишера (для нескольких сегментов)\n",
    "\n",
    "### Тест Стьюдента\n",
    "Провередем тесты Стьюдента для возрастных групп 18-24 и 65 и более."
   ]
  },
  {
   "cell_type": "code",
   "execution_count": 14,
   "id": "ed117e30-0172-4309-9d57-95557b4c1384",
   "metadata": {},
   "outputs": [
    {
     "name": "stdout",
     "output_type": "stream",
     "text": [
      "cnt_views: 0.08778024237748007\n",
      "mean_watched_pct: 6.275798940358824e-149\n",
      "cnt_kids_films: 1.7840100863820155e-13\n"
     ]
    }
   ],
   "source": [
    "metrics = ['cnt_views',\n",
    "           'mean_watched_pct',\n",
    "           'cnt_kids_films']\n",
    "for metric in metrics:\n",
    "    _, p_val = stats.ttest_ind(df.query(\"age == '18_24'\")[metric], \n",
    "                               df.query(\"age == '65_inf'\")[metric])\n",
    "    print(f'{metric}: {p_val}')"
   ]
  },
  {
   "cell_type": "markdown",
   "id": "c077d831-9197-407c-a021-53ee811e61d2",
   "metadata": {},
   "source": [
    "### Тест Манна-Уитни\n",
    "Провередем тесты Стьюдента для тех же возрастных групп."
   ]
  },
  {
   "cell_type": "code",
   "execution_count": 15,
   "id": "c5b7297c-649e-4abe-9864-6f7b93ad0adf",
   "metadata": {},
   "outputs": [
    {
     "name": "stdout",
     "output_type": "stream",
     "text": [
      "cnt_views: 9.733071630030043e-75\n",
      "mean_watched_pct: 1.1088343907061169e-184\n",
      "cnt_kids_films: 8.603446562753938e-15\n"
     ]
    }
   ],
   "source": [
    "for metric in metrics:\n",
    "    _, p_val = stats.mannwhitneyu(df.query(\"age == '18_24'\")[metric], \n",
    "                                  df.query(\"age == '65_inf'\")[metric])\n",
    "    print(f'{metric}: {p_val}')"
   ]
  },
  {
   "cell_type": "markdown",
   "id": "0d1975c2-24f1-4a6d-b2c0-74b3a93e7e60",
   "metadata": {},
   "source": [
    "### Тест Фишера (для нескольких сегментов)\n",
    "\n",
    "Проведем тест Фишера для всех возрастных групп."
   ]
  },
  {
   "cell_type": "code",
   "execution_count": 16,
   "id": "2ab0196a-f825-4def-aefa-7bfd45e95bba",
   "metadata": {},
   "outputs": [
    {
     "name": "stdout",
     "output_type": "stream",
     "text": [
      "cnt_views: 0.0\n",
      "mean_watched_pct: 0.0\n",
      "cnt_kids_films: 2.231627320620442e-303\n"
     ]
    }
   ],
   "source": [
    "for metric in metrics:\n",
    "    segments = []\n",
    "    for age in df['age'].unique():\n",
    "        segments.append(df.query(f\"age == '{age}'\")[metric])\n",
    "    _, p_val = stats.f_oneway(*segments)\n",
    "    print(f'{metric}: {p_val}')"
   ]
  },
  {
   "cell_type": "markdown",
   "id": "57534315-2480-41f6-b484-4acce71fd7da",
   "metadata": {},
   "source": [
    "### Промежуточный итог\n",
    "\n",
    "Результаты тестов Стьюдента и Манна-Уитни отличаются для метрики количества просмотров потому что тест Манна-Уитни не подходит для сравнения средних, поэтому его результаты нельзя использовать для построения выводов. В остальном мы увидели, что сегменты для выбранных метрик отличаются друг от друга. То есть средний процент просмотра и количество просмотренных детских фильмов отличаются для разных возрастных групп.\n",
    "\n",
    "Используя тест Фишера так же было обнаружено, что хотя бы один сегмент отличается от других по всем метрикам."
   ]
  },
  {
   "cell_type": "markdown",
   "id": "4777ace7-097d-42fd-8c64-390406f80efc",
   "metadata": {},
   "source": [
    "## №3 Попарные сравнения для тестов через тест Стьюдента и тест Фишера"
   ]
  },
  {
   "cell_type": "markdown",
   "id": "01e38f47-f42a-4cce-a80b-ea6ca829deb2",
   "metadata": {},
   "source": [
    "### Попарные сравнения через тест Стьюдента"
   ]
  },
  {
   "cell_type": "code",
   "execution_count": 17,
   "id": "4db6905d-fae1-4c7b-a1de-d994ff0da0bf",
   "metadata": {},
   "outputs": [
    {
     "data": {
      "text/html": [
       "<div>\n",
       "<style scoped>\n",
       "    .dataframe tbody tr th:only-of-type {\n",
       "        vertical-align: middle;\n",
       "    }\n",
       "\n",
       "    .dataframe tbody tr th {\n",
       "        vertical-align: top;\n",
       "    }\n",
       "\n",
       "    .dataframe thead th {\n",
       "        text-align: right;\n",
       "    }\n",
       "</style>\n",
       "<table border=\"1\" class=\"dataframe\">\n",
       "  <thead>\n",
       "    <tr style=\"text-align: right;\">\n",
       "      <th></th>\n",
       "      <th>Пара</th>\n",
       "      <th>Количество просмотров</th>\n",
       "      <th>Среднее время просмотра</th>\n",
       "      <th>Количество просмотренных детских фильмов</th>\n",
       "    </tr>\n",
       "  </thead>\n",
       "  <tbody>\n",
       "    <tr>\n",
       "      <th>0</th>\n",
       "      <td>25_34 - 18_24</td>\n",
       "      <td>1.962937e-173</td>\n",
       "      <td>1.104729e-20</td>\n",
       "      <td>2.115042e-80</td>\n",
       "    </tr>\n",
       "    <tr>\n",
       "      <th>1</th>\n",
       "      <td>25_34 - 45_54</td>\n",
       "      <td>1.287774e-04</td>\n",
       "      <td>5.381293e-116</td>\n",
       "      <td>4.083564e-23</td>\n",
       "    </tr>\n",
       "    <tr>\n",
       "      <th>2</th>\n",
       "      <td>25_34 - 35_44</td>\n",
       "      <td>3.186504e-46</td>\n",
       "      <td>2.614630e-04</td>\n",
       "      <td>1.991249e-15</td>\n",
       "    </tr>\n",
       "    <tr>\n",
       "      <th>3</th>\n",
       "      <td>25_34 - 55_64</td>\n",
       "      <td>1.573655e-30</td>\n",
       "      <td>4.899953e-281</td>\n",
       "      <td>1.601150e-73</td>\n",
       "    </tr>\n",
       "    <tr>\n",
       "      <th>4</th>\n",
       "      <td>25_34 - 65_inf</td>\n",
       "      <td>1.486488e-87</td>\n",
       "      <td>2.612355e-266</td>\n",
       "      <td>4.181839e-89</td>\n",
       "    </tr>\n",
       "    <tr>\n",
       "      <th>5</th>\n",
       "      <td>18_24 - 45_54</td>\n",
       "      <td>2.769409e-185</td>\n",
       "      <td>3.068641e-30</td>\n",
       "      <td>6.032983e-19</td>\n",
       "    </tr>\n",
       "    <tr>\n",
       "      <th>6</th>\n",
       "      <td>18_24 - 35_44</td>\n",
       "      <td>0.000000e+00</td>\n",
       "      <td>7.220130e-10</td>\n",
       "      <td>5.570438e-145</td>\n",
       "    </tr>\n",
       "    <tr>\n",
       "      <th>7</th>\n",
       "      <td>18_24 - 55_64</td>\n",
       "      <td>3.102180e-24</td>\n",
       "      <td>5.459678e-142</td>\n",
       "      <td>6.037016e-03</td>\n",
       "    </tr>\n",
       "    <tr>\n",
       "      <th>8</th>\n",
       "      <td>18_24 - 65_inf</td>\n",
       "      <td>8.778024e-02</td>\n",
       "      <td>6.275799e-149</td>\n",
       "      <td>1.784010e-13</td>\n",
       "    </tr>\n",
       "    <tr>\n",
       "      <th>9</th>\n",
       "      <td>45_54 - 35_44</td>\n",
       "      <td>1.866168e-17</td>\n",
       "      <td>1.776669e-84</td>\n",
       "      <td>1.266058e-63</td>\n",
       "    </tr>\n",
       "    <tr>\n",
       "      <th>10</th>\n",
       "      <td>45_54 - 55_64</td>\n",
       "      <td>1.266749e-40</td>\n",
       "      <td>1.156123e-62</td>\n",
       "      <td>1.152809e-25</td>\n",
       "    </tr>\n",
       "    <tr>\n",
       "      <th>11</th>\n",
       "      <td>45_54 - 65_inf</td>\n",
       "      <td>2.321952e-97</td>\n",
       "      <td>6.758045e-78</td>\n",
       "      <td>6.687986e-44</td>\n",
       "    </tr>\n",
       "    <tr>\n",
       "      <th>12</th>\n",
       "      <td>35_44 - 55_64</td>\n",
       "      <td>3.929567e-99</td>\n",
       "      <td>3.784525e-243</td>\n",
       "      <td>1.889171e-124</td>\n",
       "    </tr>\n",
       "    <tr>\n",
       "      <th>13</th>\n",
       "      <td>35_44 - 65_inf</td>\n",
       "      <td>2.821925e-172</td>\n",
       "      <td>5.533284e-237</td>\n",
       "      <td>2.211726e-134</td>\n",
       "    </tr>\n",
       "    <tr>\n",
       "      <th>14</th>\n",
       "      <td>55_64 - 65_inf</td>\n",
       "      <td>2.024630e-17</td>\n",
       "      <td>2.098877e-04</td>\n",
       "      <td>1.134300e-06</td>\n",
       "    </tr>\n",
       "  </tbody>\n",
       "</table>\n",
       "</div>"
      ],
      "text/plain": [
       "              Пара  Количество просмотров  Среднее время просмотра  \\\n",
       "0    25_34 - 18_24          1.962937e-173             1.104729e-20   \n",
       "1    25_34 - 45_54           1.287774e-04            5.381293e-116   \n",
       "2    25_34 - 35_44           3.186504e-46             2.614630e-04   \n",
       "3    25_34 - 55_64           1.573655e-30            4.899953e-281   \n",
       "4   25_34 - 65_inf           1.486488e-87            2.612355e-266   \n",
       "5    18_24 - 45_54          2.769409e-185             3.068641e-30   \n",
       "6    18_24 - 35_44           0.000000e+00             7.220130e-10   \n",
       "7    18_24 - 55_64           3.102180e-24            5.459678e-142   \n",
       "8   18_24 - 65_inf           8.778024e-02            6.275799e-149   \n",
       "9    45_54 - 35_44           1.866168e-17             1.776669e-84   \n",
       "10   45_54 - 55_64           1.266749e-40             1.156123e-62   \n",
       "11  45_54 - 65_inf           2.321952e-97             6.758045e-78   \n",
       "12   35_44 - 55_64           3.929567e-99            3.784525e-243   \n",
       "13  35_44 - 65_inf          2.821925e-172            5.533284e-237   \n",
       "14  55_64 - 65_inf           2.024630e-17             2.098877e-04   \n",
       "\n",
       "    Количество просмотренных детских фильмов  \n",
       "0                               2.115042e-80  \n",
       "1                               4.083564e-23  \n",
       "2                               1.991249e-15  \n",
       "3                               1.601150e-73  \n",
       "4                               4.181839e-89  \n",
       "5                               6.032983e-19  \n",
       "6                              5.570438e-145  \n",
       "7                               6.037016e-03  \n",
       "8                               1.784010e-13  \n",
       "9                               1.266058e-63  \n",
       "10                              1.152809e-25  \n",
       "11                              6.687986e-44  \n",
       "12                             1.889171e-124  \n",
       "13                             2.211726e-134  \n",
       "14                              1.134300e-06  "
      ]
     },
     "execution_count": 17,
     "metadata": {},
     "output_type": "execute_result"
    }
   ],
   "source": [
    "result = []\n",
    "\n",
    "for pair in combinations(df['age'].unique(), 2):\n",
    "    _, p_val_cnt_views = stats.ttest_ind(df.query(f\"age == '{pair[0]}'\")['cnt_views'], \n",
    "                                         df.query(f\"age == '{pair[1]}'\")['cnt_views'])\n",
    "    _, p_val_mean_watched = stats.ttest_ind(df.query(f\"age == '{pair[0]}'\")['mean_watched_pct'], \n",
    "                                            df.query(f\"age == '{pair[1]}'\")['mean_watched_pct'])\n",
    "    _, p_val_cnt_kids_film = stats.ttest_ind(df.query(f\"age == '{pair[0]}'\")['cnt_kids_films'], \n",
    "                                             df.query(f\"age == '{pair[1]}'\")['cnt_kids_films'])\n",
    "    result.append({'Пара': ' - '.join(pair),\n",
    "                   'Количество просмотров': p_val_cnt_views,\n",
    "                   'Среднее время просмотра': p_val_mean_watched,\n",
    "                   'Количество просмотренных детских фильмов': p_val_cnt_kids_film})\n",
    "    \n",
    "pair_t_tests = pd.DataFrame(result)\n",
    "pair_t_tests"
   ]
  },
  {
   "cell_type": "markdown",
   "id": "a88cc37c-8caa-4cbd-927e-b4d8e0e2fc05",
   "metadata": {},
   "source": [
    "### Тест Фишера"
   ]
  },
  {
   "cell_type": "code",
   "execution_count": 18,
   "id": "7641fab4-4c38-4391-9d8b-4109fe827efb",
   "metadata": {},
   "outputs": [
    {
     "data": {
      "text/html": [
       "<div>\n",
       "<style scoped>\n",
       "    .dataframe tbody tr th:only-of-type {\n",
       "        vertical-align: middle;\n",
       "    }\n",
       "\n",
       "    .dataframe tbody tr th {\n",
       "        vertical-align: top;\n",
       "    }\n",
       "\n",
       "    .dataframe thead th {\n",
       "        text-align: right;\n",
       "    }\n",
       "</style>\n",
       "<table border=\"1\" class=\"dataframe\">\n",
       "  <thead>\n",
       "    <tr style=\"text-align: right;\">\n",
       "      <th></th>\n",
       "      <th>Пара</th>\n",
       "      <th>Количество просмотров</th>\n",
       "      <th>Среднее время просмотра</th>\n",
       "      <th>Количество просмотренных детских фильмов</th>\n",
       "    </tr>\n",
       "  </thead>\n",
       "  <tbody>\n",
       "    <tr>\n",
       "      <th>0</th>\n",
       "      <td>25_34 - 18_24</td>\n",
       "      <td>1.962937e-173</td>\n",
       "      <td>1.104729e-20</td>\n",
       "      <td>2.115042e-80</td>\n",
       "    </tr>\n",
       "    <tr>\n",
       "      <th>1</th>\n",
       "      <td>25_34 - 45_54</td>\n",
       "      <td>1.287774e-04</td>\n",
       "      <td>5.381293e-116</td>\n",
       "      <td>4.083564e-23</td>\n",
       "    </tr>\n",
       "    <tr>\n",
       "      <th>2</th>\n",
       "      <td>25_34 - 35_44</td>\n",
       "      <td>3.186504e-46</td>\n",
       "      <td>2.614630e-04</td>\n",
       "      <td>1.991249e-15</td>\n",
       "    </tr>\n",
       "    <tr>\n",
       "      <th>3</th>\n",
       "      <td>25_34 - 55_64</td>\n",
       "      <td>1.573655e-30</td>\n",
       "      <td>4.899953e-281</td>\n",
       "      <td>1.601150e-73</td>\n",
       "    </tr>\n",
       "    <tr>\n",
       "      <th>4</th>\n",
       "      <td>25_34 - 65_inf</td>\n",
       "      <td>1.486488e-87</td>\n",
       "      <td>2.612355e-266</td>\n",
       "      <td>4.181839e-89</td>\n",
       "    </tr>\n",
       "    <tr>\n",
       "      <th>5</th>\n",
       "      <td>18_24 - 45_54</td>\n",
       "      <td>2.769409e-185</td>\n",
       "      <td>3.068641e-30</td>\n",
       "      <td>6.032983e-19</td>\n",
       "    </tr>\n",
       "    <tr>\n",
       "      <th>6</th>\n",
       "      <td>18_24 - 35_44</td>\n",
       "      <td>0.000000e+00</td>\n",
       "      <td>7.220130e-10</td>\n",
       "      <td>5.570438e-145</td>\n",
       "    </tr>\n",
       "    <tr>\n",
       "      <th>7</th>\n",
       "      <td>18_24 - 55_64</td>\n",
       "      <td>3.102180e-24</td>\n",
       "      <td>5.459678e-142</td>\n",
       "      <td>6.037016e-03</td>\n",
       "    </tr>\n",
       "    <tr>\n",
       "      <th>8</th>\n",
       "      <td>18_24 - 65_inf</td>\n",
       "      <td>8.778024e-02</td>\n",
       "      <td>6.275799e-149</td>\n",
       "      <td>1.784010e-13</td>\n",
       "    </tr>\n",
       "    <tr>\n",
       "      <th>9</th>\n",
       "      <td>45_54 - 35_44</td>\n",
       "      <td>1.866168e-17</td>\n",
       "      <td>1.776669e-84</td>\n",
       "      <td>1.266058e-63</td>\n",
       "    </tr>\n",
       "    <tr>\n",
       "      <th>10</th>\n",
       "      <td>45_54 - 55_64</td>\n",
       "      <td>1.266749e-40</td>\n",
       "      <td>1.156123e-62</td>\n",
       "      <td>1.152809e-25</td>\n",
       "    </tr>\n",
       "    <tr>\n",
       "      <th>11</th>\n",
       "      <td>45_54 - 65_inf</td>\n",
       "      <td>2.321952e-97</td>\n",
       "      <td>6.758045e-78</td>\n",
       "      <td>6.687986e-44</td>\n",
       "    </tr>\n",
       "    <tr>\n",
       "      <th>12</th>\n",
       "      <td>35_44 - 55_64</td>\n",
       "      <td>3.929567e-99</td>\n",
       "      <td>3.784525e-243</td>\n",
       "      <td>1.889171e-124</td>\n",
       "    </tr>\n",
       "    <tr>\n",
       "      <th>13</th>\n",
       "      <td>35_44 - 65_inf</td>\n",
       "      <td>2.821925e-172</td>\n",
       "      <td>5.533284e-237</td>\n",
       "      <td>2.211726e-134</td>\n",
       "    </tr>\n",
       "    <tr>\n",
       "      <th>14</th>\n",
       "      <td>55_64 - 65_inf</td>\n",
       "      <td>2.024630e-17</td>\n",
       "      <td>2.098877e-04</td>\n",
       "      <td>1.134300e-06</td>\n",
       "    </tr>\n",
       "  </tbody>\n",
       "</table>\n",
       "</div>"
      ],
      "text/plain": [
       "              Пара  Количество просмотров  Среднее время просмотра  \\\n",
       "0    25_34 - 18_24          1.962937e-173             1.104729e-20   \n",
       "1    25_34 - 45_54           1.287774e-04            5.381293e-116   \n",
       "2    25_34 - 35_44           3.186504e-46             2.614630e-04   \n",
       "3    25_34 - 55_64           1.573655e-30            4.899953e-281   \n",
       "4   25_34 - 65_inf           1.486488e-87            2.612355e-266   \n",
       "5    18_24 - 45_54          2.769409e-185             3.068641e-30   \n",
       "6    18_24 - 35_44           0.000000e+00             7.220130e-10   \n",
       "7    18_24 - 55_64           3.102180e-24            5.459678e-142   \n",
       "8   18_24 - 65_inf           8.778024e-02            6.275799e-149   \n",
       "9    45_54 - 35_44           1.866168e-17             1.776669e-84   \n",
       "10   45_54 - 55_64           1.266749e-40             1.156123e-62   \n",
       "11  45_54 - 65_inf           2.321952e-97             6.758045e-78   \n",
       "12   35_44 - 55_64           3.929567e-99            3.784525e-243   \n",
       "13  35_44 - 65_inf          2.821925e-172            5.533284e-237   \n",
       "14  55_64 - 65_inf           2.024630e-17             2.098877e-04   \n",
       "\n",
       "    Количество просмотренных детских фильмов  \n",
       "0                               2.115042e-80  \n",
       "1                               4.083564e-23  \n",
       "2                               1.991249e-15  \n",
       "3                               1.601150e-73  \n",
       "4                               4.181839e-89  \n",
       "5                               6.032983e-19  \n",
       "6                              5.570438e-145  \n",
       "7                               6.037016e-03  \n",
       "8                               1.784010e-13  \n",
       "9                               1.266058e-63  \n",
       "10                              1.152809e-25  \n",
       "11                              6.687986e-44  \n",
       "12                             1.889171e-124  \n",
       "13                             2.211726e-134  \n",
       "14                              1.134300e-06  "
      ]
     },
     "execution_count": 18,
     "metadata": {},
     "output_type": "execute_result"
    }
   ],
   "source": [
    "result = []\n",
    "\n",
    "for pair in combinations(df['age'].unique(), 2):\n",
    "    _, p_val_cnt_views = stats.f_oneway(df.query(f\"age == '{pair[0]}'\")['cnt_views'], \n",
    "                                         df.query(f\"age == '{pair[1]}'\")['cnt_views'])\n",
    "    \n",
    "    _, p_val_mean_watched = stats.f_oneway(df.query(f\"age == '{pair[0]}'\")['mean_watched_pct'], \n",
    "                                            df.query(f\"age == '{pair[1]}'\")['mean_watched_pct'])\n",
    "    \n",
    "    _, p_val_cnt_kids_film = stats.f_oneway(df.query(f\"age == '{pair[0]}'\")['cnt_kids_films'], \n",
    "                                             df.query(f\"age == '{pair[1]}'\")['cnt_kids_films'])\n",
    "    \n",
    "    result.append({'Пара': ' - '.join(pair),\n",
    "                   'Количество просмотров': p_val_cnt_views,\n",
    "                   'Среднее время просмотра': p_val_mean_watched,\n",
    "                   'Количество просмотренных детских фильмов': p_val_cnt_kids_film})\n",
    "    \n",
    "pair_f_tests = pd.DataFrame(result)\n",
    "pair_f_tests"
   ]
  },
  {
   "cell_type": "markdown",
   "id": "b309022f-0c85-4029-b530-d3eca5b507cd",
   "metadata": {},
   "source": [
    "### Промежуточный итог"
   ]
  },
  {
   "cell_type": "markdown",
   "id": "a65464e4-9796-40e9-acad-5b6a7eda0c98",
   "metadata": {},
   "source": [
    "Как мы видим, попарный тест Фишерра эквивалентен двухстороннему тесту стьюдента. Убедимся в этом не только наглядно."
   ]
  },
  {
   "cell_type": "code",
   "execution_count": 19,
   "id": "0a4cda73-ad38-4cc9-a658-17d6bcc7196c",
   "metadata": {},
   "outputs": [
    {
     "data": {
      "text/plain": [
       "0.0"
      ]
     },
     "execution_count": 19,
     "metadata": {},
     "output_type": "execute_result"
    }
   ],
   "source": [
    "np.abs(np.round(pair_t_tests.drop('Пара', axis=1) - pair_f_tests.drop('Пара', axis=1), 10)).sum().sum()"
   ]
  },
  {
   "cell_type": "markdown",
   "id": "849be722-9df5-4de1-b5ab-b3ffd3cede35",
   "metadata": {},
   "source": [
    "Округление необходимо, чтобы избежать проблемы [машинного нуля](https://ru.wikipedia.org/wiki/%D0%9C%D0%B0%D1%88%D0%B8%D0%BD%D0%BD%D1%8B%D0%B9_%D0%BD%D0%BE%D0%BB%D1%8C)."
   ]
  },
  {
   "cell_type": "markdown",
   "id": "0518e356-32f6-442f-a470-76b5ca0a48bf",
   "metadata": {},
   "source": [
    "## №4 Точный и эфронов доверительные интервал для выбранных метрик\n",
    "\n",
    "Возьмем два сегмента 18-24 и 65 и более. Построим для них доверительные интервалы и сравним их с результатами теста Стьюдента из 2-го пункта.\n",
    "\n",
    "Напишем функции для построения точно и эфронова доверительного интервала."
   ]
  },
  {
   "cell_type": "code",
   "execution_count": 20,
   "id": "d9e7073f-091c-4764-bb27-420683720f42",
   "metadata": {},
   "outputs": [],
   "source": [
    "def calc_confidence_interval(data: pd.Series, \n",
    "                             confidence: float = 0.95\n",
    ") -> list:\n",
    "    n = len(data)\n",
    "    mean = np.mean(data)\n",
    "    std_dev = np.std(data, ddof=1)\n",
    "    df = n - 1\n",
    "    interval = stats.t.interval(confidence, \n",
    "                                df, \n",
    "                                loc=mean, \n",
    "                                scale=std_dev / np.sqrt(n))\n",
    "    return interval\n",
    "\n",
    "\n",
    "def efron_confidence_interval(data: pd.Series, \n",
    "                              confidence: float = 0.95, \n",
    "                              num_bootstrap_samples: int = 1000\n",
    ") -> list:\n",
    "    n = len(data)\n",
    "    bootstrap_samples = np.random.choice(data, size=(num_bootstrap_samples, n), \n",
    "                                         replace=True)\n",
    "    bootstrap_means = np.mean(bootstrap_samples, axis=1)\n",
    "    sorted_bootstrap_means = np.sort(bootstrap_means)\n",
    "    alpha = (1 - confidence) / 2\n",
    "    lower_index = int(alpha * num_bootstrap_samples)\n",
    "    upper_index = int((1 - alpha) * num_bootstrap_samples)\n",
    "    lower_bound = np.round(sorted_bootstrap_means[lower_index], 5)\n",
    "    upper_bound = np.round(sorted_bootstrap_means[upper_index], 5)\n",
    "    return lower_bound, upper_bound"
   ]
  },
  {
   "cell_type": "code",
   "execution_count": 21,
   "id": "003cbc14-dc72-4937-a25a-b02b1c3f2072",
   "metadata": {},
   "outputs": [
    {
     "name": "stdout",
     "output_type": "stream",
     "text": [
      "cnt_views: [4.92321 5.03251], [4.76991 4.99045], 0.08778\n",
      "mean_watched_pct: [38.54738 38.91404], [33.71899 34.33158], 0.0\n",
      "cnt_kids_films: [1.52626 1.57402], [1.33857 1.41673], 0.0\n"
     ]
    }
   ],
   "source": [
    "metrics = ['cnt_views',\n",
    "           'mean_watched_pct',\n",
    "           'cnt_kids_films']\n",
    "\n",
    "result = []\n",
    "\n",
    "for metric in metrics:\n",
    "    intrerval_18_24 = calc_confidence_interval(df.query(\"age == '18_24'\")[metric])\n",
    "    interval_65_inf = calc_confidence_interval(df.query(\"age == '65_inf'\")[metric])\n",
    "    intrerval_18_24 = np.round(intrerval_18_24, 5)\n",
    "    interval_65_inf = np.round(interval_65_inf, 5)\n",
    "    \n",
    "    _, p_val = stats.ttest_ind(df.query(\"age == '18_24'\")[metric], \n",
    "                               df.query(\"age == '65_inf'\")[metric])\n",
    "    p_val = np.round(p_val, 5)\n",
    "\n",
    "    print(f'{metric}: {intrerval_18_24}, {interval_65_inf}, {p_val}')"
   ]
  },
  {
   "cell_type": "code",
   "execution_count": 22,
   "id": "8f12e0b5-d026-4734-a8d3-6440fd910222",
   "metadata": {},
   "outputs": [
    {
     "name": "stdout",
     "output_type": "stream",
     "text": [
      "cnt_views: [4.92027 5.0325 ], [4.76991 4.99045], 0.08778\n",
      "mean_watched_pct: [38.54655 38.92852], [33.71899 34.33158], 0.0\n",
      "cnt_kids_films: [1.52824 1.57404], [1.33857 1.41673], 0.0\n"
     ]
    }
   ],
   "source": [
    "metrics = ['cnt_views',\n",
    "           'mean_watched_pct',\n",
    "           'cnt_kids_films']\n",
    "\n",
    "for metric in metrics:\n",
    "    intrerval_18_24 = efron_confidence_interval(df.query(\"age == '18_24'\")[metric])\n",
    "    interval_65_inf = calc_confidence_interval(df.query(\"age == '65_inf'\")[metric])\n",
    "    intrerval_18_24 = np.round(intrerval_18_24, 5)\n",
    "    interval_65_inf = np.round(interval_65_inf, 5)\n",
    "    \n",
    "    _, p_val = stats.ttest_ind(df.query(\"age == '18_24'\")[metric], \n",
    "                               df.query(\"age == '65_inf'\")[metric])\n",
    "    p_val = np.round(p_val, 5)\n",
    "    \n",
    "    print(f'{metric}: {intrerval_18_24}, {interval_65_inf}, {p_val}')"
   ]
  },
  {
   "cell_type": "markdown",
   "id": "7125731e-820f-4670-baa9-04a4e449b269",
   "metadata": {},
   "source": [
    "Использование доверительных интервалов подтвердило результаты теста Стьюдента (доверительные интервалы не пересекаются там, где p-уровень значимости меньше 0.05). Но стоит помнить, что оценка статистик с использованием доверительных интервалов является менее точной, так как возрастает ошибка 2-го рода."
   ]
  },
  {
   "cell_type": "markdown",
   "id": "341ec580-70bd-46b6-92eb-ed20d5984a61",
   "metadata": {},
   "source": [
    "## №5 Статистические методы для 2-го пунтка\n",
    "\n",
    "### Тест Колмогорова-Смирнова\n"
   ]
  },
  {
   "cell_type": "code",
   "execution_count": 23,
   "id": "b1327c84-bf86-4c82-a9bb-250210a5aff9",
   "metadata": {},
   "outputs": [
    {
     "data": {
      "text/plain": [
       "1.4590258181624818e-78"
      ]
     },
     "execution_count": 23,
     "metadata": {},
     "output_type": "execute_result"
    }
   ],
   "source": [
    "_, p_val = stats.ks_2samp(df.query(\"age == '18_24'\")['cnt_views'], \n",
    "                          df.query(\"age == '65_inf'\")['cnt_views'])\n",
    "p_val"
   ]
  },
  {
   "cell_type": "markdown",
   "id": "ef32d5aa-f3b9-48ee-b555-cef7ae316fa4",
   "metadata": {},
   "source": [
    "Получили, что p-уровень значимости меньше 0.05 - распределения различны."
   ]
  },
  {
   "cell_type": "markdown",
   "id": "55abce05-dd25-41e4-989c-898984a033f3",
   "metadata": {},
   "source": [
    "### Тест Левена\n",
    "\n",
    "Тест Левена используется для проверки гипотезы о равенстве дисперсий между двумя или более группами. Этот тест, так же как и предыдущий, является непараметрическим - он не чувствителен к отклонениям от нормальности."
   ]
  },
  {
   "cell_type": "code",
   "execution_count": 24,
   "id": "7169042d-e766-4d8e-8100-94edde3a1edd",
   "metadata": {},
   "outputs": [
    {
     "data": {
      "text/plain": [
       "0.8460683772304081"
      ]
     },
     "execution_count": 24,
     "metadata": {},
     "output_type": "execute_result"
    }
   ],
   "source": [
    "_, p_val = stats.levene(df.query(\"age == '18_24'\")['cnt_views'], \n",
    "                        df.query(\"age == '65_inf'\")['cnt_views'])\n",
    "p_val"
   ]
  },
  {
   "cell_type": "markdown",
   "id": "c807ff55-9bb2-47ed-8fb9-3bca7dc83fcc",
   "metadata": {},
   "source": [
    "Получили, что p-уровень значимости больше 0.05 - распределения имеют одинаковую дисперсию."
   ]
  }
 ],
 "metadata": {
  "kernelspec": {
   "display_name": "Python 3 (ipykernel)",
   "language": "python",
   "name": "python3"
  },
  "language_info": {
   "codemirror_mode": {
    "name": "ipython",
    "version": 3
   },
   "file_extension": ".py",
   "mimetype": "text/x-python",
   "name": "python",
   "nbconvert_exporter": "python",
   "pygments_lexer": "ipython3",
   "version": "3.11.6"
  }
 },
 "nbformat": 4,
 "nbformat_minor": 5
}
